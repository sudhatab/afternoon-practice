{
 "cells": [
  {
   "cell_type": "markdown",
   "id": "b47609f3",
   "metadata": {},
   "source": [
    "Condsider the List:"
   ]
  },
  {
   "cell_type": "code",
   "execution_count": 4,
   "id": "13c832c2",
   "metadata": {},
   "outputs": [],
   "source": [
    "from functools import reduce\n",
    "\n",
    "\n",
    "prog_lang = [('Python', 3.8),\n",
    "    ('Java', 13),\n",
    "    ('JavaScript', 2019),\n",
    "    ('Scala', 2.13)]"
   ]
  },
  {
   "cell_type": "markdown",
   "id": "ce455e52",
   "metadata": {},
   "source": [
    "1.) Sort the list by each language's version in ascending order."
   ]
  },
  {
   "cell_type": "code",
   "execution_count": 5,
   "id": "13c6a709",
   "metadata": {},
   "outputs": [
    {
     "name": "stdout",
     "output_type": "stream",
     "text": [
      "[('Scala', 2.13), ('Python', 3.8), ('Java', 13), ('JavaScript', 2019)]\n"
     ]
    }
   ],
   "source": [
    "answer1= sorted(prog_lang, key=lambda x: x[1])\n",
    "print(answer1)\n",
    "\n",
    "#Expected Output:\n",
    "#[('Scala', 2.13), ('Python', 3.8), ('Java', 13), ('JavaScript', 2019)]"
   ]
  },
  {
   "cell_type": "markdown",
   "id": "91ebd1e9",
   "metadata": {},
   "source": [
    "2.) Sort the list by the length of the name of each language in descending order."
   ]
  },
  {
   "cell_type": "code",
   "execution_count": 6,
   "id": "0e01feb0",
   "metadata": {},
   "outputs": [
    {
     "name": "stdout",
     "output_type": "stream",
     "text": [
      "[('JavaScript', 2019), ('Python', 3.8), ('Scala', 2.13), ('Java', 13)]\n"
     ]
    }
   ],
   "source": [
    "answer2= sorted(prog_lang, key=lambda x: len(x[0]), reverse=True)\n",
    "print(answer2)\n",
    "\n",
    "#Expected Output:\n",
    "#[('JavaScript', 2019), ('Python', 3.8), ('Scala', 2.13), ('Java', 13)]"
   ]
  },
  {
   "cell_type": "markdown",
   "id": "fb9800d0",
   "metadata": {},
   "source": [
    "3.) Filter the list so that it only contains languages with 'a' in it."
   ]
  },
  {
   "cell_type": "code",
   "execution_count": 8,
   "id": "da294b57",
   "metadata": {},
   "outputs": [
    {
     "name": "stdout",
     "output_type": "stream",
     "text": [
      "[('Java', 13), ('JavaScript', 2019), ('Scala', 2.13)]\n"
     ]
    }
   ],
   "source": [
    "answer3= list(filter(lambda x: 'a' in x[0], prog_lang))\n",
    "print(answer3)\n",
    "\n",
    "\n",
    "#Expected Output:\n",
    "#[('Java', 13), ('JavaScript', 2019), ('Scala', 2.13)]"
   ]
  },
  {
   "cell_type": "markdown",
   "id": "544c89bb",
   "metadata": {},
   "source": [
    "4.) Filter the list so that it only contains languages whose version is in integer form."
   ]
  },
  {
   "cell_type": "code",
   "execution_count": 9,
   "id": "2aa45ad4",
   "metadata": {},
   "outputs": [
    {
     "name": "stdout",
     "output_type": "stream",
     "text": [
      "[('Java', 13), ('JavaScript', 2019)]\n"
     ]
    }
   ],
   "source": [
    "answer4= list(filter(lambda x: type(x[1]) == int, prog_lang))\n",
    "print(answer4)\n",
    "\n",
    "#Expected Output:\n",
    "##[('Java', 13), ('JavaScript', 2019)]"
   ]
  },
  {
   "cell_type": "markdown",
   "id": "82afdf31",
   "metadata": {},
   "source": [
    "5.) Transform the list so that it contains the tuples in the form:\n",
    "\n",
    "(\"language in all lower case\", length of the language string)"
   ]
  },
  {
   "cell_type": "code",
   "execution_count": 20,
   "id": "44e3a2c6",
   "metadata": {},
   "outputs": [
    {
     "name": "stdout",
     "output_type": "stream",
     "text": [
      "[('python', 6), ('java', 4), ('javascript', 10), ('scala', 5)]\n"
     ]
    }
   ],
   "source": [
    "answer5= list(map(lambda x: (x[0].lower(),len(x[0])), prog_lang))\n",
    "print(answer5)\n",
    "\n",
    "#Expected Output:\n",
    "#[('python', 6), ('java', 4), ('javascript', 10), ('scala', 5)]"
   ]
  },
  {
   "cell_type": "markdown",
   "id": "f2d69680",
   "metadata": {},
   "source": [
    "6.) Generate a tuple in the following form:\n",
    "\n",
    "(\"All languages separated by commas\",\"All versions separated by commas\")"
   ]
  },
  {
   "cell_type": "code",
   "execution_count": 21,
   "id": "c7d2a335",
   "metadata": {},
   "outputs": [
    {
     "name": "stdout",
     "output_type": "stream",
     "text": [
      "('Python,Java,JavaScript,Scala', '3.8,13,2019,2.13')\n"
     ]
    }
   ],
   "source": [
    "answer6 = reduce(lambda x, y:(f'{x[0]},{y[0]}', f'{x[1]},{y[1]}'), prog_lang)\n",
    "print(answer6)\n",
    "\n",
    "#Expected Output:\n",
    "#('Python,Java,JavaScript,Scala', '3.8,13,2019,2.13')"
   ]
  }
 ],
 "metadata": {
  "kernelspec": {
   "display_name": "Python 3 (ipykernel)",
   "language": "python",
   "name": "python3"
  },
  "language_info": {
   "codemirror_mode": {
    "name": "ipython",
    "version": 3
   },
   "file_extension": ".py",
   "mimetype": "text/x-python",
   "name": "python",
   "nbconvert_exporter": "python",
   "pygments_lexer": "ipython3",
   "version": "3.9.12"
  }
 },
 "nbformat": 4,
 "nbformat_minor": 5
}
